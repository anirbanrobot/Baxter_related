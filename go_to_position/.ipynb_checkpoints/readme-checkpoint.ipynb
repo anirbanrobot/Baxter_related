{
 "cells": [
  {
   "cell_type": "markdown",
   "metadata": {},
   "source": [
    "# go_to_position package\n",
    "\n",
    "This package is created to move Baxter joints to desired rotations. This package can be downloaded from github repository, http://www.github.com. There is one basic node that can implement what stated above. The node name is **go_to_angle.py**. This node takes 8 input arguments, one for arm side and seven joint angles. If only side is provided as input argument, then this node get the arm back to a predefined joint configuration, called *home position*. Below we showed installation protocol of this package into ROS workspace (**ros_ws**) and including it with the workspace.\n",
    "\n",
    "```\n",
    "$ cd ~/ros_ws/src\n",
    "$ git clone http://www.github.com\n",
    "$ cd ~/ros_ws\n",
    "$ catkin_make\n",
    "$ source devel/setup.bash\n",
    "```\n",
    "In order to run the node, it is important to create executables of the node. See the following instruction to create the executable,\n",
    "\n",
    "```\n",
    "$ cd ~/ros_ws/src/go_to_position/nodes\n",
    "$ chmod +x go_to_angle.py\n",
    "```\n",
    "\n",
    "This will create the necessary executable of the node. The next commands shows how you should run the node, first with 8 input arguments followed by an instance where node is given with only one input argument."
   ]
  },
  {
   "cell_type": "markdown",
   "metadata": {},
   "source": [
    "### Example 1:  providing 8 input argument\n",
    "The general format of running the node with 8 input argument is as following,\n",
    "\n",
    "```\n",
    "$ cd ~/ros_ws\n",
    "$ rosrun go_to_position go_to_angle.py <side> <j1> <j2> <j3> <j4> <j5> <j6> <j7>\n",
    "```\n",
    "For instance, if we want to rotate **left** arm with joint angles **0.5**, **-0.2**, **0.4**, **0.1**, **0.5**, **0.7**, **1.2**, **0.1** radians respectively then run the node as following,\n",
    "\n",
    "```\n",
    "$ rosrun go_to_position go_to_angle.py left 0.5 -0.2 0.4 0.1 0.5 0.7 1.2 0.1\n",
    "```\n",
    "This would take the arm to desired joint configuration."
   ]
  },
  {
   "cell_type": "markdown",
   "metadata": {},
   "source": [
    "### Example 2: providing 1 input argument\n",
    "This is a special case of **Example 1** that takes in only 1 (<side>) input argument instead of 8. The general command line argument to run this node is as following,\n",
    "\n",
    "```\n",
    "$ rosrun go_to_position go_to_angle.py <side>\n",
    "```\n",
    "Therefore if we want to move right arm, then type in terminal the following,\n",
    "\n",
    "```\n",
    "$ rosrun go_to_position go_to_angle.py right\n",
    "```"
   ]
  },
  {
   "cell_type": "code",
   "execution_count": null,
   "metadata": {},
   "outputs": [],
   "source": []
  }
 ],
 "metadata": {
  "kernelspec": {
   "display_name": "Python 3",
   "language": "python",
   "name": "python3"
  },
  "language_info": {
   "codemirror_mode": {
    "name": "ipython",
    "version": 3
   },
   "file_extension": ".py",
   "mimetype": "text/x-python",
   "name": "python",
   "nbconvert_exporter": "python",
   "pygments_lexer": "ipython3",
   "version": "3.5.2"
  }
 },
 "nbformat": 4,
 "nbformat_minor": 2
}
